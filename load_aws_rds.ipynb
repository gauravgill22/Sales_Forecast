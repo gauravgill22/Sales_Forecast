{
 "cells": [
  {
   "cell_type": "code",
   "execution_count": 1,
   "metadata": {},
   "outputs": [],
   "source": [
    "import numpy as np \n",
    "import pandas as pd \n",
    "import warnings\n",
    "warnings.filterwarnings('ignore')\n",
    "import os\n",
    "\n",
    "from pandas.tseries.holiday import USFederalHolidayCalendar as calendar\n",
    "import psycopg2\n",
    "import sqlalchemy\n",
    "from sqlalchemy import create_engine\n",
    "\n",
    "from psycopg2.extensions import register_adapter, AsIs\n",
    "\n",
    "def addapt_numpy_float64(numpy_float64):\n",
    "    return AsIs(numpy_float64)\n",
    "\n",
    "def addapt_numpy_int64(numpy_int64):\n",
    "    return AsIs(numpy_int64)\n",
    "\n",
    "register_adapter(np.float64, addapt_numpy_float64)\n",
    "register_adapter(np.int64, addapt_numpy_int64)"
   ]
  },
  {
   "cell_type": "code",
   "execution_count": 2,
   "metadata": {},
   "outputs": [],
   "source": [
    "from config import yelp_api_key, darksky_api_key, PGHOST, PGDATABASE, PGUSER, PGPASSWORD\n",
    "from restaurant_info import Location\n",
    "from weather import Weather"
   ]
  },
  {
   "cell_type": "markdown",
   "metadata": {},
   "source": [
    "### Get Latitude & Longitude from Yelp API"
   ]
  },
  {
   "cell_type": "code",
   "execution_count": 3,
   "metadata": {},
   "outputs": [],
   "source": [
    "search_business = 'The Counting Room' # Not the actual Restaurant \n",
    "location = 'Brooklyn, NY'"
   ]
  },
  {
   "cell_type": "code",
   "execution_count": 4,
   "metadata": {},
   "outputs": [],
   "source": [
    "# Make Yelp API Call to get Latitude & Longitude for Business\n",
    "loc = Location(search_business, location)\n",
    "lat, long = loc.lat_long()"
   ]
  },
  {
   "cell_type": "markdown",
   "metadata": {},
   "source": [
    "### Import / Clean / Prep File"
   ]
  },
  {
   "cell_type": "code",
   "execution_count": 3,
   "metadata": {},
   "outputs": [],
   "source": [
    "w_start = '2017-01-01'\n",
    "w_end = '2019-06-30'\n",
    "\n",
    "# Restaurant File\n",
    "sales_file = 'csv/rest_1_both_pos_by_check.csv'\n",
    "\n",
    "# Complete Daily Reservations File\n",
    "resy_file = 'csv/rest_1_covers_new.csv'\n",
    "\n",
    "# Weather File\n",
    "weather_csv_file = f'csv/weather_{w_start}_to_{w_end}.csv'"
   ]
  },
  {
   "cell_type": "code",
   "execution_count": 6,
   "metadata": {},
   "outputs": [],
   "source": [
    " # Read in Sales File\n",
    "data = pd.read_csv(sales_file, index_col = 'date', parse_dates=True)\n",
    "sales_df = pd.DataFrame(data)"
   ]
  },
  {
   "cell_type": "code",
   "execution_count": 7,
   "metadata": {},
   "outputs": [],
   "source": [
    "def prep_sales_df(df):\n",
    "    \n",
    "        # Dinner Only\n",
    "        df = df[df.day_part == 'Dinner']\n",
    "        \n",
    "        # Fill NaN\n",
    "        df.fillna(0, inplace=True)\n",
    "        \n",
    "        # Filter Out $0 Sales\n",
    "        df = df[df.net_sales > 0]\n",
    "        \n",
    "        # Create Unique Check ID\n",
    "        df['check_id'] = df.index.strftime('%Y%m%d') + '-' + df.index.strftime('%H%M') + '-' + \\\n",
    "                    df['check_no'].astype(int).astype(str) + '-' + df['revenue_center'].str[0] + '-' + pd.factorize(df['net_sales'])[0].astype(str)\n",
    "         \n",
    "            \n",
    "        df.check_no = df.check_no.astype(int)\n",
    "        \n",
    "        # Drop Covers, Day Part, & Check_No\n",
    "        df = df.drop(['covers', 'day_part'], axis=1)\n",
    "    \n",
    "        df.index = df.index.normalize()\n",
    "        \n",
    "        return df\n",
    "    \n",
    "sales_df = prep_sales_df(sales_df)"
   ]
  },
  {
   "cell_type": "code",
   "execution_count": 8,
   "metadata": {},
   "outputs": [
    {
     "data": {
      "text/html": [
       "<div>\n",
       "<style scoped>\n",
       "    .dataframe tbody tr th:only-of-type {\n",
       "        vertical-align: middle;\n",
       "    }\n",
       "\n",
       "    .dataframe tbody tr th {\n",
       "        vertical-align: top;\n",
       "    }\n",
       "\n",
       "    .dataframe thead th {\n",
       "        text-align: right;\n",
       "    }\n",
       "</style>\n",
       "<table border=\"1\" class=\"dataframe\">\n",
       "  <thead>\n",
       "    <tr style=\"text-align: right;\">\n",
       "      <th></th>\n",
       "      <th>check_no</th>\n",
       "      <th>net_sales</th>\n",
       "      <th>revenue_center</th>\n",
       "      <th>check_id</th>\n",
       "    </tr>\n",
       "    <tr>\n",
       "      <th>date</th>\n",
       "      <th></th>\n",
       "      <th></th>\n",
       "      <th></th>\n",
       "      <th></th>\n",
       "    </tr>\n",
       "  </thead>\n",
       "  <tbody>\n",
       "    <tr>\n",
       "      <td>2017-01-02</td>\n",
       "      <td>3364</td>\n",
       "      <td>7.34</td>\n",
       "      <td>Window</td>\n",
       "      <td>20170102-0511-3364-W-0</td>\n",
       "    </tr>\n",
       "    <tr>\n",
       "      <td>2017-01-02</td>\n",
       "      <td>3367</td>\n",
       "      <td>30.00</td>\n",
       "      <td>Window</td>\n",
       "      <td>20170102-0525-3367-W-1</td>\n",
       "    </tr>\n",
       "    <tr>\n",
       "      <td>2017-01-02</td>\n",
       "      <td>3369</td>\n",
       "      <td>111.00</td>\n",
       "      <td>PDR</td>\n",
       "      <td>20170102-0528-3369-P-2</td>\n",
       "    </tr>\n",
       "    <tr>\n",
       "      <td>2017-01-02</td>\n",
       "      <td>3370</td>\n",
       "      <td>112.00</td>\n",
       "      <td>Dining Room</td>\n",
       "      <td>20170102-0532-3370-D-3</td>\n",
       "    </tr>\n",
       "    <tr>\n",
       "      <td>2017-01-02</td>\n",
       "      <td>3371</td>\n",
       "      <td>148.00</td>\n",
       "      <td>Dining Room</td>\n",
       "      <td>20170102-0533-3371-D-4</td>\n",
       "    </tr>\n",
       "  </tbody>\n",
       "</table>\n",
       "</div>"
      ],
      "text/plain": [
       "            check_no  net_sales revenue_center                check_id\n",
       "date                                                                  \n",
       "2017-01-02      3364       7.34         Window  20170102-0511-3364-W-0\n",
       "2017-01-02      3367      30.00         Window  20170102-0525-3367-W-1\n",
       "2017-01-02      3369     111.00            PDR  20170102-0528-3369-P-2\n",
       "2017-01-02      3370     112.00    Dining Room  20170102-0532-3370-D-3\n",
       "2017-01-02      3371     148.00    Dining Room  20170102-0533-3371-D-4"
      ]
     },
     "execution_count": 8,
     "metadata": {},
     "output_type": "execute_result"
    }
   ],
   "source": [
    "sales_df.head()"
   ]
  },
  {
   "cell_type": "code",
   "execution_count": 9,
   "metadata": {},
   "outputs": [],
   "source": [
    "# Send this Long Format File to CSV for Dashboards\n",
    "sales_df.to_csv('csv/rest_1_sales_by_check_long_0117_0619.csv')"
   ]
  },
  {
   "cell_type": "markdown",
   "metadata": {},
   "source": [
    "### High Level View of Annual Revenue"
   ]
  },
  {
   "cell_type": "code",
   "execution_count": 14,
   "metadata": {},
   "outputs": [
    {
     "data": {
      "text/html": [
       "<div>\n",
       "<style scoped>\n",
       "    .dataframe tbody tr th:only-of-type {\n",
       "        vertical-align: middle;\n",
       "    }\n",
       "\n",
       "    .dataframe tbody tr th {\n",
       "        vertical-align: top;\n",
       "    }\n",
       "\n",
       "    .dataframe thead th {\n",
       "        text-align: right;\n",
       "    }\n",
       "</style>\n",
       "<table border=\"1\" class=\"dataframe\">\n",
       "  <thead>\n",
       "    <tr style=\"text-align: right;\">\n",
       "      <th></th>\n",
       "      <th></th>\n",
       "      <th>sum</th>\n",
       "      <th>check_avg</th>\n",
       "    </tr>\n",
       "    <tr>\n",
       "      <th>date</th>\n",
       "      <th>revenue_center</th>\n",
       "      <th></th>\n",
       "      <th></th>\n",
       "    </tr>\n",
       "  </thead>\n",
       "  <tbody>\n",
       "    <tr>\n",
       "      <td rowspan=\"5\" valign=\"top\">2017</td>\n",
       "      <td>Bar</td>\n",
       "      <td>1080561.72</td>\n",
       "      <td>130.047144</td>\n",
       "    </tr>\n",
       "    <tr>\n",
       "      <td>Dining Room</td>\n",
       "      <td>2800349.31</td>\n",
       "      <td>228.655941</td>\n",
       "    </tr>\n",
       "    <tr>\n",
       "      <td>Outside</td>\n",
       "      <td>866862.75</td>\n",
       "      <td>154.962951</td>\n",
       "    </tr>\n",
       "    <tr>\n",
       "      <td>PDR</td>\n",
       "      <td>1210661.82</td>\n",
       "      <td>219.521636</td>\n",
       "    </tr>\n",
       "    <tr>\n",
       "      <td>Window</td>\n",
       "      <td>151524.71</td>\n",
       "      <td>34.865327</td>\n",
       "    </tr>\n",
       "    <tr>\n",
       "      <td rowspan=\"5\" valign=\"top\">2018</td>\n",
       "      <td>Bar</td>\n",
       "      <td>1074150.34</td>\n",
       "      <td>134.470498</td>\n",
       "    </tr>\n",
       "    <tr>\n",
       "      <td>Dining Room</td>\n",
       "      <td>2791638.47</td>\n",
       "      <td>216.389309</td>\n",
       "    </tr>\n",
       "    <tr>\n",
       "      <td>Outside</td>\n",
       "      <td>759544.82</td>\n",
       "      <td>165.658630</td>\n",
       "    </tr>\n",
       "    <tr>\n",
       "      <td>PDR</td>\n",
       "      <td>1225295.67</td>\n",
       "      <td>237.967697</td>\n",
       "    </tr>\n",
       "    <tr>\n",
       "      <td>Window</td>\n",
       "      <td>98340.87</td>\n",
       "      <td>31.651390</td>\n",
       "    </tr>\n",
       "    <tr>\n",
       "      <td rowspan=\"5\" valign=\"top\">2019</td>\n",
       "      <td>Bar</td>\n",
       "      <td>551353.66</td>\n",
       "      <td>136.676663</td>\n",
       "    </tr>\n",
       "    <tr>\n",
       "      <td>Dining Room</td>\n",
       "      <td>1562307.41</td>\n",
       "      <td>199.860229</td>\n",
       "    </tr>\n",
       "    <tr>\n",
       "      <td>Outside</td>\n",
       "      <td>240349.88</td>\n",
       "      <td>169.379760</td>\n",
       "    </tr>\n",
       "    <tr>\n",
       "      <td>PDR</td>\n",
       "      <td>616058.02</td>\n",
       "      <td>227.243829</td>\n",
       "    </tr>\n",
       "    <tr>\n",
       "      <td>Window</td>\n",
       "      <td>9725.54</td>\n",
       "      <td>14.302265</td>\n",
       "    </tr>\n",
       "  </tbody>\n",
       "</table>\n",
       "</div>"
      ],
      "text/plain": [
       "                            sum   check_avg\n",
       "date revenue_center                        \n",
       "2017 Bar             1080561.72  130.047144\n",
       "     Dining Room     2800349.31  228.655941\n",
       "     Outside          866862.75  154.962951\n",
       "     PDR             1210661.82  219.521636\n",
       "     Window           151524.71   34.865327\n",
       "2018 Bar             1074150.34  134.470498\n",
       "     Dining Room     2791638.47  216.389309\n",
       "     Outside          759544.82  165.658630\n",
       "     PDR             1225295.67  237.967697\n",
       "     Window            98340.87   31.651390\n",
       "2019 Bar              551353.66  136.676663\n",
       "     Dining Room     1562307.41  199.860229\n",
       "     Outside          240349.88  169.379760\n",
       "     PDR              616058.02  227.243829\n",
       "     Window             9725.54   14.302265"
      ]
     },
     "execution_count": 14,
     "metadata": {},
     "output_type": "execute_result"
    }
   ],
   "source": [
    "sales_df.groupby([sales_df.index.year, 'revenue_center'])['net_sales'].agg({'sum': 'sum', 'check_avg': 'mean'})"
   ]
  },
  {
   "cell_type": "code",
   "execution_count": 15,
   "metadata": {},
   "outputs": [],
   "source": [
    "dfw = pd.read_csv(weather_csv_file, index_col='date', parse_dates=True)"
   ]
  },
  {
   "cell_type": "code",
   "execution_count": 16,
   "metadata": {},
   "outputs": [
    {
     "data": {
      "text/html": [
       "<div>\n",
       "<style scoped>\n",
       "    .dataframe tbody tr th:only-of-type {\n",
       "        vertical-align: middle;\n",
       "    }\n",
       "\n",
       "    .dataframe tbody tr th {\n",
       "        vertical-align: top;\n",
       "    }\n",
       "\n",
       "    .dataframe thead th {\n",
       "        text-align: right;\n",
       "    }\n",
       "</style>\n",
       "<table border=\"1\" class=\"dataframe\">\n",
       "  <thead>\n",
       "    <tr style=\"text-align: right;\">\n",
       "      <th></th>\n",
       "      <th>apparent_temperature</th>\n",
       "      <th>humidity</th>\n",
       "      <th>precip_intensity_max</th>\n",
       "      <th>precip_max_time</th>\n",
       "      <th>precip_prob</th>\n",
       "      <th>precip_type</th>\n",
       "      <th>pressure</th>\n",
       "      <th>summary</th>\n",
       "      <th>temperature</th>\n",
       "    </tr>\n",
       "    <tr>\n",
       "      <th>date</th>\n",
       "      <th></th>\n",
       "      <th></th>\n",
       "      <th></th>\n",
       "      <th></th>\n",
       "      <th></th>\n",
       "      <th></th>\n",
       "      <th></th>\n",
       "      <th></th>\n",
       "      <th></th>\n",
       "    </tr>\n",
       "  </thead>\n",
       "  <tbody>\n",
       "    <tr>\n",
       "      <td>2017-01-01</td>\n",
       "      <td>37.83</td>\n",
       "      <td>0.54</td>\n",
       "      <td>0.0000</td>\n",
       "      <td>05:01AM</td>\n",
       "      <td>0.00</td>\n",
       "      <td>none</td>\n",
       "      <td>1028.26</td>\n",
       "      <td>clear-night</td>\n",
       "      <td>37.83</td>\n",
       "    </tr>\n",
       "    <tr>\n",
       "      <td>2017-01-02</td>\n",
       "      <td>35.58</td>\n",
       "      <td>0.92</td>\n",
       "      <td>0.0242</td>\n",
       "      <td>03:00PM</td>\n",
       "      <td>0.79</td>\n",
       "      <td>rain</td>\n",
       "      <td>1027.98</td>\n",
       "      <td>rain</td>\n",
       "      <td>39.06</td>\n",
       "    </tr>\n",
       "    <tr>\n",
       "      <td>2017-01-03</td>\n",
       "      <td>41.50</td>\n",
       "      <td>0.94</td>\n",
       "      <td>0.0913</td>\n",
       "      <td>05:00PM</td>\n",
       "      <td>0.77</td>\n",
       "      <td>rain</td>\n",
       "      <td>1000.08</td>\n",
       "      <td>rain</td>\n",
       "      <td>43.19</td>\n",
       "    </tr>\n",
       "    <tr>\n",
       "      <td>2017-01-04</td>\n",
       "      <td>36.81</td>\n",
       "      <td>0.40</td>\n",
       "      <td>0.0176</td>\n",
       "      <td>12:00AM</td>\n",
       "      <td>0.00</td>\n",
       "      <td>rain</td>\n",
       "      <td>1002.55</td>\n",
       "      <td>clear-night</td>\n",
       "      <td>42.29</td>\n",
       "    </tr>\n",
       "    <tr>\n",
       "      <td>2017-01-05</td>\n",
       "      <td>27.11</td>\n",
       "      <td>0.48</td>\n",
       "      <td>0.0000</td>\n",
       "      <td>05:01AM</td>\n",
       "      <td>0.00</td>\n",
       "      <td>none</td>\n",
       "      <td>1014.61</td>\n",
       "      <td>cloudy</td>\n",
       "      <td>31.36</td>\n",
       "    </tr>\n",
       "  </tbody>\n",
       "</table>\n",
       "</div>"
      ],
      "text/plain": [
       "            apparent_temperature  humidity  precip_intensity_max  \\\n",
       "date                                                               \n",
       "2017-01-01                 37.83      0.54                0.0000   \n",
       "2017-01-02                 35.58      0.92                0.0242   \n",
       "2017-01-03                 41.50      0.94                0.0913   \n",
       "2017-01-04                 36.81      0.40                0.0176   \n",
       "2017-01-05                 27.11      0.48                0.0000   \n",
       "\n",
       "           precip_max_time  precip_prob precip_type  pressure      summary  \\\n",
       "date                                                                         \n",
       "2017-01-01         05:01AM         0.00        none   1028.26  clear-night   \n",
       "2017-01-02         03:00PM         0.79        rain   1027.98         rain   \n",
       "2017-01-03         05:00PM         0.77        rain   1000.08         rain   \n",
       "2017-01-04         12:00AM         0.00        rain   1002.55  clear-night   \n",
       "2017-01-05         05:01AM         0.00        none   1014.61       cloudy   \n",
       "\n",
       "            temperature  \n",
       "date                     \n",
       "2017-01-01        37.83  \n",
       "2017-01-02        39.06  \n",
       "2017-01-03        43.19  \n",
       "2017-01-04        42.29  \n",
       "2017-01-05        31.36  "
      ]
     },
     "execution_count": 16,
     "metadata": {},
     "output_type": "execute_result"
    }
   ],
   "source": [
    "dfw.head()"
   ]
  },
  {
   "cell_type": "code",
   "execution_count": 17,
   "metadata": {},
   "outputs": [],
   "source": [
    "dfr = pd.read_csv(resy_file, index_col='date', parse_dates=True)\n",
    "\n",
    "def prep_resy_df(df):\n",
    "                  \n",
    "        # Fill NaN\n",
    "        df.fillna(0, inplace=True)\n",
    "        \n",
    "        return df\n",
    "    \n",
    "dfr = prep_resy_df(dfr)"
   ]
  },
  {
   "cell_type": "code",
   "execution_count": 18,
   "metadata": {},
   "outputs": [],
   "source": [
    "rental_fees = pd.read_csv('csv/pos_1_rental_fees.csv')"
   ]
  },
  {
   "cell_type": "code",
   "execution_count": 19,
   "metadata": {},
   "outputs": [
    {
     "data": {
      "text/html": [
       "<div>\n",
       "<style scoped>\n",
       "    .dataframe tbody tr th:only-of-type {\n",
       "        vertical-align: middle;\n",
       "    }\n",
       "\n",
       "    .dataframe tbody tr th {\n",
       "        vertical-align: top;\n",
       "    }\n",
       "\n",
       "    .dataframe thead th {\n",
       "        text-align: right;\n",
       "    }\n",
       "</style>\n",
       "<table border=\"1\" class=\"dataframe\">\n",
       "  <thead>\n",
       "    <tr style=\"text-align: right;\">\n",
       "      <th></th>\n",
       "      <th>Ordered at</th>\n",
       "      <th>Revenue Center</th>\n",
       "      <th>Check #</th>\n",
       "      <th>Net Sales</th>\n",
       "    </tr>\n",
       "  </thead>\n",
       "  <tbody>\n",
       "    <tr>\n",
       "      <td>0</td>\n",
       "      <td>10/1/2018</td>\n",
       "      <td>Dining Room</td>\n",
       "      <td>1256</td>\n",
       "      <td>$15,000.00</td>\n",
       "    </tr>\n",
       "    <tr>\n",
       "      <td>1</td>\n",
       "      <td>10/1/2018</td>\n",
       "      <td>PDR</td>\n",
       "      <td>5653</td>\n",
       "      <td>$15,000.00</td>\n",
       "    </tr>\n",
       "    <tr>\n",
       "      <td>2</td>\n",
       "      <td>1/26/2019</td>\n",
       "      <td>Dining Room</td>\n",
       "      <td>9117</td>\n",
       "      <td>$15,000.00</td>\n",
       "    </tr>\n",
       "    <tr>\n",
       "      <td>3</td>\n",
       "      <td>5/20/2019</td>\n",
       "      <td>PDR</td>\n",
       "      <td>7729</td>\n",
       "      <td>$15,000.00</td>\n",
       "    </tr>\n",
       "    <tr>\n",
       "      <td>4</td>\n",
       "      <td>9/29/2018</td>\n",
       "      <td>PDR</td>\n",
       "      <td>6436</td>\n",
       "      <td>$2,000.00</td>\n",
       "    </tr>\n",
       "  </tbody>\n",
       "</table>\n",
       "</div>"
      ],
      "text/plain": [
       "  Ordered at Revenue Center  Check #   Net Sales\n",
       "0  10/1/2018    Dining Room     1256  $15,000.00\n",
       "1  10/1/2018            PDR     5653  $15,000.00\n",
       "2  1/26/2019    Dining Room     9117  $15,000.00\n",
       "3  5/20/2019            PDR     7729  $15,000.00\n",
       "4  9/29/2018            PDR     6436   $2,000.00"
      ]
     },
     "execution_count": 19,
     "metadata": {},
     "output_type": "execute_result"
    }
   ],
   "source": [
    "rental_fees.head()"
   ]
  },
  {
   "cell_type": "code",
   "execution_count": 20,
   "metadata": {},
   "outputs": [],
   "source": [
    "def clean_rental_fees(df):\n",
    "    \n",
    "    df.columns = ['date', 'rev_center', 'check_no', 'rental_fees']\n",
    "    df.date = pd.to_datetime(df.date)\n",
    "    \n",
    "    df.rental_fees = [float(x.strip('$').replace(',', '')) for x in df.rental_fees]\n",
    "    \n",
    "    df.rev_center = df.rev_center.replace('Patio', 'Outside')\n",
    "    \n",
    "    df = df.set_index('date')\n",
    "    \n",
    "    return df\n",
    "\n",
    "rental_fees = clean_rental_fees(rental_fees)"
   ]
  },
  {
   "cell_type": "code",
   "execution_count": 21,
   "metadata": {},
   "outputs": [
    {
     "data": {
      "text/html": [
       "<div>\n",
       "<style scoped>\n",
       "    .dataframe tbody tr th:only-of-type {\n",
       "        vertical-align: middle;\n",
       "    }\n",
       "\n",
       "    .dataframe tbody tr th {\n",
       "        vertical-align: top;\n",
       "    }\n",
       "\n",
       "    .dataframe thead th {\n",
       "        text-align: right;\n",
       "    }\n",
       "</style>\n",
       "<table border=\"1\" class=\"dataframe\">\n",
       "  <thead>\n",
       "    <tr style=\"text-align: right;\">\n",
       "      <th></th>\n",
       "      <th>rev_center</th>\n",
       "      <th>check_no</th>\n",
       "      <th>rental_fees</th>\n",
       "    </tr>\n",
       "    <tr>\n",
       "      <th>date</th>\n",
       "      <th></th>\n",
       "      <th></th>\n",
       "      <th></th>\n",
       "    </tr>\n",
       "  </thead>\n",
       "  <tbody>\n",
       "    <tr>\n",
       "      <td>2018-10-01</td>\n",
       "      <td>Dining Room</td>\n",
       "      <td>1256</td>\n",
       "      <td>15000.0</td>\n",
       "    </tr>\n",
       "    <tr>\n",
       "      <td>2018-10-01</td>\n",
       "      <td>PDR</td>\n",
       "      <td>5653</td>\n",
       "      <td>15000.0</td>\n",
       "    </tr>\n",
       "    <tr>\n",
       "      <td>2019-01-26</td>\n",
       "      <td>Dining Room</td>\n",
       "      <td>9117</td>\n",
       "      <td>15000.0</td>\n",
       "    </tr>\n",
       "    <tr>\n",
       "      <td>2019-05-20</td>\n",
       "      <td>PDR</td>\n",
       "      <td>7729</td>\n",
       "      <td>15000.0</td>\n",
       "    </tr>\n",
       "    <tr>\n",
       "      <td>2018-09-29</td>\n",
       "      <td>PDR</td>\n",
       "      <td>6436</td>\n",
       "      <td>2000.0</td>\n",
       "    </tr>\n",
       "  </tbody>\n",
       "</table>\n",
       "</div>"
      ],
      "text/plain": [
       "             rev_center  check_no  rental_fees\n",
       "date                                          \n",
       "2018-10-01  Dining Room      1256      15000.0\n",
       "2018-10-01          PDR      5653      15000.0\n",
       "2019-01-26  Dining Room      9117      15000.0\n",
       "2019-05-20          PDR      7729      15000.0\n",
       "2018-09-29          PDR      6436       2000.0"
      ]
     },
     "execution_count": 21,
     "metadata": {},
     "output_type": "execute_result"
    }
   ],
   "source": [
    "rental_fees.head()"
   ]
  },
  {
   "cell_type": "markdown",
   "metadata": {},
   "source": [
    "## Load Data to AWS RDS"
   ]
  },
  {
   "cell_type": "markdown",
   "metadata": {},
   "source": [
    "### Connect Helper Function"
   ]
  },
  {
   "cell_type": "code",
   "execution_count": 22,
   "metadata": {},
   "outputs": [],
   "source": [
    "def connect():\n",
    "    \n",
    "    # Set up a connection to the postgres server.\n",
    "    conn_string = \"host=\"+ PGHOST +\" port=\"+ \"5432\" +\" dbname=\"+ PGDATABASE +\" user=\" + PGUSER \\\n",
    "                  +\" password=\"+ PGPASSWORD\n",
    "    \n",
    "    conn = psycopg2.connect(conn_string)\n",
    "    print(\":) :) :)\")\n",
    "\n",
    "    # Create a cursor object\n",
    "    cursor = conn.cursor()\n",
    "    \n",
    "    return conn, cursor"
   ]
  },
  {
   "cell_type": "code",
   "execution_count": 21,
   "metadata": {},
   "outputs": [
    {
     "name": "stdout",
     "output_type": "stream",
     "text": [
      ":) :) :)\n"
     ]
    }
   ],
   "source": [
    "conn, cursor = connect()"
   ]
  },
  {
   "cell_type": "code",
   "execution_count": 10,
   "metadata": {},
   "outputs": [],
   "source": [
    "conn.close()"
   ]
  },
  {
   "cell_type": "markdown",
   "metadata": {},
   "source": [
    "### Drop Table Helper Function"
   ]
  },
  {
   "cell_type": "code",
   "execution_count": 22,
   "metadata": {},
   "outputs": [],
   "source": [
    "def drop_table(table_name):\n",
    "    \n",
    "    conn, cursor = connect()\n",
    "    \n",
    "    cursor.execute(f'DROP TABLE {table_name}')\n",
    "    conn.commit()\n",
    "    conn.close()"
   ]
  },
  {
   "cell_type": "code",
   "execution_count": 23,
   "metadata": {},
   "outputs": [
    {
     "name": "stdout",
     "output_type": "stream",
     "text": [
      ":) :) :)\n"
     ]
    }
   ],
   "source": [
    "drop_table('weather')"
   ]
  },
  {
   "cell_type": "markdown",
   "metadata": {},
   "source": [
    "### Create Sales & Reservations Tables"
   ]
  },
  {
   "cell_type": "code",
   "execution_count": 5,
   "metadata": {},
   "outputs": [],
   "source": [
    "create_rev_center_table = \"\"\"\n",
    "    CREATE TABLE IF NOT EXISTS rev_center(\n",
    "        id INTEGER PRIMARY KEY NOT NULL,\n",
    "        name VARCHAR NOT NULL\n",
    "    )\"\"\"\n",
    "\n",
    "create_check_table = \"\"\"\n",
    "    CREATE TABLE IF NOT EXISTS checks(\n",
    "        check_id VARCHAR(36) PRIMARY KEY NOT NULL,\n",
    "        date DATE,\n",
    "        check_no INTEGER,\n",
    "        rev_center_id INTEGER REFERENCES rev_center(id),\n",
    "        net_sales NUMERIC (7, 2)\n",
    "    )\"\"\"\n",
    "\n",
    "create_resy_table = \"\"\"\n",
    "    CREATE TABLE IF NOT EXISTS reservations (\n",
    "        id INTEGER PRIMARY KEY NOT NULL,\n",
    "        date DATE,\n",
    "        inside_covers INTEGER,\n",
    "        outside_covers INTEGER,\n",
    "        reserved_covers INTEGER,\n",
    "        walkin_covers INTEGER,\n",
    "        waitlist_covers INTEGER,\n",
    "        no_show_covers INTEGER,\n",
    "        no_show_parties INTEGER\n",
    "    )\n",
    "    \"\"\"\n",
    "\n",
    "create_rental_fees_table = \"\"\"\n",
    "    CREATE TABLE IF NOT EXISTS rental_fees (\n",
    "        check_no INTEGER PRIMARY KEY,\n",
    "        date DATE,\n",
    "        rev_center_id INTEGER REFERENCES rev_center(id),\n",
    "        rental_fees NUMERIC(7, 2)\n",
    "    )\"\"\"\n",
    "\n",
    "create_weather_table = \"\"\"\n",
    "        CREATE TABLE IF NOT EXISTS weather ( \n",
    "            DATE DATE, \n",
    "            date_id INT PRIMARY KEY, \n",
    "            apparent_temperature NUMERIC (4, 2), \n",
    "            humidity NUMERIC (3, 2), \n",
    "            precip_intensity_max NUMERIC (5, 4), \n",
    "            precip_max_time TIME, \n",
    "            precip_prob NUMERIC (3, 2), \n",
    "            precip_type TEXT, \n",
    "            pressure NUMERIC (6,2), \n",
    "            summary TEXT, \n",
    "            temperature NUMERIC (4, 2)\n",
    "            )\n",
    "            \"\"\""
   ]
  },
  {
   "cell_type": "markdown",
   "metadata": {},
   "source": [
    "### Create Table Helper Function"
   ]
  },
  {
   "cell_type": "code",
   "execution_count": 6,
   "metadata": {},
   "outputs": [],
   "source": [
    "def create_table(create_query):\n",
    "    \n",
    "    conn, cursor = connect()\n",
    "    \n",
    "    cursor.execute(f'{create_query}')\n",
    "    conn.commit()\n",
    "    conn.close()"
   ]
  },
  {
   "cell_type": "code",
   "execution_count": 26,
   "metadata": {},
   "outputs": [
    {
     "name": "stdout",
     "output_type": "stream",
     "text": [
      ":) :) :)\n"
     ]
    }
   ],
   "source": [
    "create_table(create_weather_table)"
   ]
  },
  {
   "cell_type": "markdown",
   "metadata": {},
   "source": [
    "### Populate Databases"
   ]
  },
  {
   "cell_type": "code",
   "execution_count": 640,
   "metadata": {},
   "outputs": [],
   "source": [
    "rev_centers = {'Dining Room': 1, 'Bar': 2, 'PDR': 3, 'Window': 4, 'Outside': 5}"
   ]
  },
  {
   "cell_type": "code",
   "execution_count": 642,
   "metadata": {},
   "outputs": [],
   "source": [
    "def populate_rev_center(df):\n",
    "    \n",
    "    conn, cursor = connect()\n",
    "    \n",
    "    for r, i in rev_centers.items():\n",
    "        cursor.execute(\"INSERT INTO rev_center (id, name) VALUES (%s, %s)\", (i, r) )\n",
    "        conn.commit()\n",
    "        conn.close()\n",
    "    \n",
    "populate_rev_center(sales_df)\n",
    "                "
   ]
  },
  {
   "cell_type": "code",
   "execution_count": 551,
   "metadata": {},
   "outputs": [],
   "source": [
    "def populate_checks(df):\n",
    "    \n",
    "    conn, cursor = connect()\n",
    "    \n",
    "    for row in range(len(df)):\n",
    "        \n",
    "        cursor.execute(\"INSERT INTO checks (check_id, date, check_no, rev_center_id, net_sales) VALUES (%s, %s, %s, %s, %s)\",\n",
    "                      (df.iloc[row]['check_id'],\n",
    "                       pd.to_datetime(df.index[row]),\n",
    "                       df.iloc[row]['check_no'],\n",
    "                       rev_centers[df.iloc[row]['revenue_center']],\n",
    "                       df.iloc[row]['net_sales']) )\n",
    "        conn.commit()\n",
    "        conn.close()\n",
    "        \n",
    "populate_checks(sales_df)"
   ]
  },
  {
   "cell_type": "code",
   "execution_count": 661,
   "metadata": {},
   "outputs": [],
   "source": [
    "def populate_reservations(df):\n",
    "    \n",
    "    conn, cursor = connect()\n",
    "    \n",
    "    for row in range(len(df)):\n",
    "        \n",
    "        cursor.execute(\"\"\"\n",
    "            INSERT INTO reservations (id, date, inside_covers, outside_covers, reserved_covers,\n",
    "            walkin_covers, waitlist_covers, no_show_covers, no_show_parties) VALUES (%s, %s, %s, %s, %s, %s, %s, %s, %s)\"\"\",\n",
    "                (df.index[row].strftime('%Y%m%d'),\n",
    "                pd.to_datetime(df.index[row]),\n",
    "                df.iloc[row]['inside_covers'],\n",
    "                df.iloc[row]['outside_covers'],\n",
    "                df.iloc[row]['reserved_covers'],\n",
    "                df.iloc[row]['walkin_covers'],\n",
    "                df.iloc[row]['waitlist_covers'],\n",
    "                df.iloc[row]['no_show_covers'],\n",
    "                df.iloc[row]['no_show_parties']) )\n",
    "        conn.commit()\n",
    "    conn.close()\n",
    "        \n",
    "populate_reservations(dfr)"
   ]
  },
  {
   "cell_type": "code",
   "execution_count": 680,
   "metadata": {},
   "outputs": [
    {
     "name": "stdout",
     "output_type": "stream",
     "text": [
      ":) :) :)\n"
     ]
    }
   ],
   "source": [
    "def populate_rental_fees(df):\n",
    "    \n",
    "    conn, cursor = connect()\n",
    "    \n",
    "    for row in range(len(df)):\n",
    "        \n",
    "        cursor.execute(\"INSERT INTO rental_fees (check_no, date, rev_center_id, rental_fees) VALUES (%s, %s, %s, %s)\",\n",
    "                      (df.iloc[row]['check_no'],\n",
    "                       pd.to_datetime(df.index[row]),\n",
    "                       rev_centers[df.iloc[row]['rev_center']],\n",
    "                       df.iloc[row]['rental_fees']) )\n",
    "        conn.commit()\n",
    "    conn.close()\n",
    "        \n",
    "populate_rental_fees(rental_fees)"
   ]
  },
  {
   "cell_type": "code",
   "execution_count": 28,
   "metadata": {},
   "outputs": [
    {
     "name": "stdout",
     "output_type": "stream",
     "text": [
      ":) :) :)\n"
     ]
    }
   ],
   "source": [
    "def populate_weather(df):\n",
    "    \n",
    "    conn, cursor = connect()\n",
    "    \n",
    "    for row in range(len(df)):\n",
    "        \n",
    "        cursor.execute(\"\"\"\n",
    "            INSERT INTO weather (date, date_id, apparent_temperature, humidity, precip_intensity_max, precip_max_time,\n",
    "            precip_prob, precip_type, pressure, summary, temperature) VALUES (%s, %s, %s, %s, %s, %s, %s, %s, %s, %s, %s)\"\"\",\n",
    "                (pd.to_datetime(df.index[row]),\n",
    "                 df.index[row].strftime('%Y%m%d'),\n",
    "                 df.iloc[row]['apparent_temperature'],\n",
    "                 df.iloc[row]['humidity'],\n",
    "                 df.iloc[row]['precip_intensity_max'],\n",
    "                 df.iloc[row]['precip_max_time'],\n",
    "                 df.iloc[row]['precip_prob'],\n",
    "                 df.iloc[row]['precip_type'],\n",
    "                 df.iloc[row]['pressure'],\n",
    "                 df.iloc[row]['summary'],\n",
    "                 df.iloc[row]['temperature']) )\n",
    "        conn.commit()\n",
    "    conn.close()\n",
    "\n",
    "populate_weather(dfw)\n",
    "        "
   ]
  }
 ],
 "metadata": {
  "kernelspec": {
   "display_name": "Python 3",
   "language": "python",
   "name": "python3"
  },
  "language_info": {
   "codemirror_mode": {
    "name": "ipython",
    "version": 3
   },
   "file_extension": ".py",
   "mimetype": "text/x-python",
   "name": "python",
   "nbconvert_exporter": "python",
   "pygments_lexer": "ipython3",
   "version": "3.7.3"
  }
 },
 "nbformat": 4,
 "nbformat_minor": 4
}
